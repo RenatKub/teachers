{
 "cells": [
  {
   "cell_type": "code",
   "execution_count": 1,
   "metadata": {},
   "outputs": [],
   "source": [
    "import random\n",
    "suits=('черва','буба','пика','крест')\n",
    "ranks=('двойка','тройка','четверка','пятерка','шестерка','семерка','восьмерка','девятка','десятка',\n",
    "'валет','дама','король','туз')\n",
    "values={'двойка':2, 'тройка':3, 'четверка':4, 'пятерка':5, 'шестерка':6, 'семерка':7, 'восьмерка':8,\n",
    "'девятка':9, 'десятка':10, 'валет':10, 'дама':10, 'король':10, 'туз':11,}\n",
    "playing=True"
   ]
  },
  {
   "cell_type": "code",
   "execution_count": 2,
   "metadata": {},
   "outputs": [],
   "source": [
    "class card():\n",
    "  def __init__(self,suit,rank):\n",
    "    self.suit=suit\n",
    "    self.rank=rank\n",
    "  def __str__(self):\n",
    "    return self.rank+\" \"+self.suit\n",
    "\n"
   ]
  },
  {
   "cell_type": "code",
   "execution_count": 3,
   "metadata": {},
   "outputs": [],
   "source": [
    "class deck():\n",
    "  def __init__(self):\n",
    "    self.deck=[]\n",
    "    for suit in suits:\n",
    "      for rank in ranks:\n",
    "        self.deck.append(card(suit, rank))\n",
    "  def __str__(self):\n",
    "    deck_comp=''\n",
    "    for card in self.deck:\n",
    "      deck_comp+='\\n'+card.__str__()\n",
    "    return(\"В колоде находятся: \"+deck_comp)\n",
    "  def shuffle(self):\n",
    "    random.shuffle(self.deck)\n",
    "  def deal(self):\n",
    "    single_card=self.deck.pop()\n",
    "    return single_card"
   ]
  },
  {
   "cell_type": "code",
   "execution_count": 4,
   "metadata": {},
   "outputs": [],
   "source": [
    "class hand():\n",
    "  def __init__(self):\n",
    "    self.cards=[]\n",
    "    self.value=0\n",
    "    self.aces=0\n",
    "\n",
    "  def add_card(self,card):\n",
    "    self.cards.append(card)\n",
    "    self.value+=values[card.rank]\n",
    "\n",
    "    if card.rank=='туз':\n",
    "      self.aces+=1\n",
    "\n",
    "  \n",
    "  def adjust_for_ace(self):\n",
    "    while self.value>21 and self.aces>0:\n",
    "      self.value-=10\n",
    "      self.aces-=1"
   ]
  },
  {
   "cell_type": "code",
   "execution_count": 5,
   "metadata": {},
   "outputs": [
    {
     "name": "stdout",
     "output_type": "stream",
     "text": [
      "семерка крест\n",
      "7\n"
     ]
    }
   ],
   "source": [
    "tect_deck=deck()\n",
    "tect_deck.shuffle()\n",
    "\n",
    "#Player\n",
    "test_player=hand()\n",
    "pulled_card=tect_deck.deal()\n",
    "print(pulled_card)\n",
    "test_player.add_card(pulled_card)\n",
    "print(test_player.value)"
   ]
  },
  {
   "cell_type": "code",
   "execution_count": 6,
   "metadata": {},
   "outputs": [],
   "source": [
    "test_player.add_card(tect_deck.deal())"
   ]
  },
  {
   "cell_type": "code",
   "execution_count": 7,
   "metadata": {},
   "outputs": [
    {
     "data": {
      "text/plain": [
       "17"
      ]
     },
     "execution_count": 7,
     "metadata": {},
     "output_type": "execute_result"
    }
   ],
   "source": [
    "test_player.value"
   ]
  },
  {
   "cell_type": "code",
   "execution_count": 8,
   "metadata": {},
   "outputs": [],
   "source": [
    "class chips:\n",
    "    def __init__(self, total=100):\n",
    "      self.total=total\n",
    "      self.bet=0\n",
    "    def win_bet(self):\n",
    "      self.total+=self.bet\n",
    "    def lose_bet(self):\n",
    "       self.total-=self.bet"
   ]
  },
  {
   "cell_type": "code",
   "execution_count": 9,
   "metadata": {},
   "outputs": [],
   "source": [
    "def take_bet(chips):\n",
    "  while True:\n",
    "    try:\n",
    "      chips.bet=int(input(\"Сколько фишек вы ходите поставить?\"))\n",
    "    except:\n",
    "      print(\"Извините! Введите целое число!\")\n",
    "    else:\n",
    "      if chips.bet>chips.total:\n",
    "        print(\"Простите, недостаточно фишек. У вас:{}\".format(chips.total))\n",
    "      else:\n",
    "        break"
   ]
  },
  {
   "cell_type": "code",
   "execution_count": 10,
   "metadata": {},
   "outputs": [],
   "source": [
    "def hit(deck,hand):\n",
    "  single_card=deck.deal()\n",
    "  hand.add_card(single_card)\n",
    "  hand.adjust_for_ace()"
   ]
  },
  {
   "cell_type": "code",
   "execution_count": 11,
   "metadata": {},
   "outputs": [],
   "source": [
    "def hit_of_stand(deck,hand):\n",
    "  global playing\n",
    "  while True:\n",
    "    x=input(\"Выдать еще или остановиться? Введите h или s\")\n",
    "    if x[0].lower()=='h':\n",
    "      hit(deck,hand)\n",
    "    elif x[0].lower()=='s':\n",
    "      print(\"Очередь Диллера\")\n",
    "      playing=False\n",
    "    else:\n",
    "      print(\"Извините, я не понимаю эту комманду, пожалуйста введите только h или s\")\n",
    "      continue\n",
    "    break"
   ]
  },
  {
   "cell_type": "code",
   "execution_count": 12,
   "metadata": {},
   "outputs": [],
   "source": [
    "def player_busts(player,dealer,chips):\n",
    "    print(\"Игрок перебрал\")\n",
    "    chips.lose_bet()\n",
    "def player_wins(player, dealer, chips):\n",
    "    print(\"Игрок победил\")\n",
    "    chips.win_bet()\n",
    "def dealer_busts(player, dealer, chips):\n",
    "    print(\"Игрок победил, дилер перебрал\")\n",
    "    chips.win_bet()\n",
    "def dealer_wins(player, dealer, chips):\n",
    "    print(\"Дилер победил\")\n",
    "    chips.lose_bet()\n",
    "def push(player, dealer, chips):\n",
    "    print(\"Ничья между игроком и дилером. \")"
   ]
  },
  {
   "cell_type": "code",
   "execution_count": 13,
   "metadata": {},
   "outputs": [
    {
     "name": "stdout",
     "output_type": "stream",
     "text": [
      "Добро пожаловать в BlackJack!!!\n",
      "Простите, недостаточно фишек. У вас:100\n",
      "Простите, недостаточно фишек. У вас:100\n",
      "Простите, недостаточно фишек. У вас:100\n"
     ]
    },
    {
     "ename": "NameError",
     "evalue": "name 'show_some' is not defined",
     "output_type": "error",
     "traceback": [
      "\u001b[1;31m---------------------------------------------------------------------------\u001b[0m",
      "\u001b[1;31mNameError\u001b[0m                                 Traceback (most recent call last)",
      "\u001b[1;32mc:\\GIT\\teachers\\bjack.ipynb Ячейка 13\u001b[0m in \u001b[0;36m<cell line: 2>\u001b[1;34m()\u001b[0m\n\u001b[0;32m     <a href='vscode-notebook-cell:/c%3A/GIT/teachers/bjack.ipynb#X15sZmlsZQ%3D%3D?line=11'>12</a>\u001b[0m player_chips\u001b[39m=\u001b[39mchips()\n\u001b[0;32m     <a href='vscode-notebook-cell:/c%3A/GIT/teachers/bjack.ipynb#X15sZmlsZQ%3D%3D?line=12'>13</a>\u001b[0m take_bet(player_chips)\n\u001b[1;32m---> <a href='vscode-notebook-cell:/c%3A/GIT/teachers/bjack.ipynb#X15sZmlsZQ%3D%3D?line=13'>14</a>\u001b[0m show_some(player_hand,dealer_hand)\n\u001b[0;32m     <a href='vscode-notebook-cell:/c%3A/GIT/teachers/bjack.ipynb#X15sZmlsZQ%3D%3D?line=14'>15</a>\u001b[0m \u001b[39mwhile\u001b[39;00m playing:\n\u001b[0;32m     <a href='vscode-notebook-cell:/c%3A/GIT/teachers/bjack.ipynb#X15sZmlsZQ%3D%3D?line=15'>16</a>\u001b[0m   hit_of_stand(deck,player_hand)\n",
      "\u001b[1;31mNameError\u001b[0m: name 'show_some' is not defined"
     ]
    }
   ],
   "source": [
    "while True:\n",
    "  print(\"Добро пожаловать в BlackJack!!!\")\n",
    "  deck=deck()\n",
    "  deck.shuffle()\n",
    "  player_hand=hand()\n",
    "  player_hand.add_card(deck.deal())\n",
    "  player_hand.add_card(deck.deal())\n",
    "\n",
    "  dealer_hand=hand()\n",
    "  dealer_hand.add_card(deck.deal())\n",
    "  dealer_hand.add_card(deck.deal())\n",
    "  player_chips=chips()\n",
    "  take_bet(player_chips)\n",
    "  show_some(player_hand,dealer_hand)\n",
    "  while playing:\n",
    "    hit_of_stand(deck,player_hand)\n",
    "    show_some(player_hand,dealer_hand)\n",
    "    if player_hand.value>21:\n",
    "      player_busts(player_hand,dealer_hand,player_chips)\n",
    "    break\n",
    "  if player_hand.value<=21:\n",
    "    while dealer_hand.value<17:\n",
    "      hit(deck,dealer_hand)\n",
    "    show_all(player_hand,dealer_hand)\n",
    "    if dealer_hand.value>21:\n",
    "      dealer_busts(player_hand,dealer_hand,player_chips)\n",
    "    elif dealer_hand.value>player_hand.value:\n",
    "      dealer_wins(player_hand,dealer_hand,player_chips)\n",
    "    elif dealer_hand.value<player_hand.value:\n",
    "      player_wins(player_hand, dealer_hand, player_chips)\n",
    "    else:\n",
    "      push(player_hand,dealer_hand)\n",
    "  print(\"\\n количество фишек игрока: {}\".format(player_chips.total))\n",
    "  new_game=input(\"Хотите начать другую игру? y/n\")\n",
    "  if new_game[0].lower()=='y':\n",
    "    playing=True\n",
    "    continue\n",
    "  else:\n",
    "    print(\"Спасибо за игру!\")\n",
    "    break"
   ]
  }
 ],
 "metadata": {
  "kernelspec": {
   "display_name": "base",
   "language": "python",
   "name": "python3"
  },
  "language_info": {
   "codemirror_mode": {
    "name": "ipython",
    "version": 3
   },
   "file_extension": ".py",
   "mimetype": "text/x-python",
   "name": "python",
   "nbconvert_exporter": "python",
   "pygments_lexer": "ipython3",
   "version": "3.9.12"
  },
  "orig_nbformat": 4
 },
 "nbformat": 4,
 "nbformat_minor": 2
}
