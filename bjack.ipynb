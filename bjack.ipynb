{
 "cells": [
  {
   "cell_type": "code",
   "execution_count": 31,
   "metadata": {},
   "outputs": [],
   "source": [
    "import random\n",
    "suits=('черва','буба','пика','крест')\n",
    "ranks=('двойка','тройка','четверка','пятерка','шестерка','семерка','восьмерка','девятка','десятка',\n",
    "'валет','дама','король','туз')\n",
    "values={'двойка':2, 'тройка':3, 'четверка':4, 'пятерка':5, 'шестерка':6, 'семерка':7, 'восьмерка':8,\n",
    "'девятка':9, 'десятка':10, 'валет':10, 'дама':10, 'король':10, 'туз':11,}\n",
    "playing=True"
   ]
  },
  {
   "cell_type": "code",
   "execution_count": 32,
   "metadata": {},
   "outputs": [],
   "source": [
    "class card():\n",
    "  def __init__(self,suit,rank):\n",
    "    self.suit=suit\n",
    "    self.rank=rank\n",
    "  def __str__(self):\n",
    "    return self.rank+\" \"+self.suit\n",
    "\n"
   ]
  },
  {
   "cell_type": "code",
   "execution_count": 33,
   "metadata": {},
   "outputs": [],
   "source": [
    "class deck():\n",
    "  def __init__(self):\n",
    "    self.deck=[]\n",
    "    for suit in suits:\n",
    "      for rank in ranks:\n",
    "        self.deck.append(card(suit, rank))\n",
    "  def __str__(self):\n",
    "    deck_comp=''\n",
    "    for card in self.deck:\n",
    "      deck_comp+='\\n'+card.__str__()\n",
    "    return(\"В колоде находятся: \"+deck_comp)\n",
    "  def shuffle(self):\n",
    "    random.shuffle(self.deck)\n",
    "  def deal(self):\n",
    "    single_card=self.deck.pop()\n",
    "    return single_card"
   ]
  },
  {
   "cell_type": "code",
   "execution_count": 34,
   "metadata": {},
   "outputs": [],
   "source": [
    "class hand():\n",
    "  def __init__(self):\n",
    "    self.cards=[]\n",
    "    self.value=0\n",
    "    self.aces=0\n",
    "\n",
    "  def add_card(self,card):\n",
    "    self.cards.append(card)\n",
    "    self.value+=values[card.rank]\n",
    "\n",
    "    if card.rank=='туз':\n",
    "      self.aces+=1\n",
    "\n",
    "  \n",
    "  def adjust_for_ace(self):\n",
    "    while self.value>21 and self.aces>0:\n",
    "      self.value-=10\n",
    "      self.aces-=1"
   ]
  },
  {
   "cell_type": "code",
   "execution_count": 35,
   "metadata": {},
   "outputs": [
    {
     "name": "stdout",
     "output_type": "stream",
     "text": [
      "валет буба\n",
      "10\n"
     ]
    }
   ],
   "source": [
    "tect_deck=deck()\n",
    "tect_deck.shuffle()\n",
    "\n",
    "#Player\n",
    "test_player=hand()\n",
    "pulled_card=tect_deck.deal()\n",
    "print(pulled_card)\n",
    "test_player.add_card(pulled_card)\n",
    "print(test_player.value)"
   ]
  },
  {
   "cell_type": "code",
   "execution_count": 36,
   "metadata": {},
   "outputs": [],
   "source": [
    "test_player.add_card(tect_deck.deal())"
   ]
  },
  {
   "cell_type": "code",
   "execution_count": 37,
   "metadata": {},
   "outputs": [
    {
     "data": {
      "text/plain": [
       "13"
      ]
     },
     "execution_count": 37,
     "metadata": {},
     "output_type": "execute_result"
    }
   ],
   "source": [
    "test_player.value"
   ]
  },
  {
   "cell_type": "code",
   "execution_count": null,
   "metadata": {},
   "outputs": [],
   "source": [
    "class chips:\n",
    "    def __init__(self, total=100):\n",
    "      self.total=total\n",
    "      self.bet=0\n",
    "    def win_bet(self):\n",
    "      self.total+=self.bet\n",
    "    def lose_bet(self):\n",
    "       self.total-=self.bet"
   ]
  }
 ],
 "metadata": {
  "kernelspec": {
   "display_name": "base",
   "language": "python",
   "name": "python3"
  },
  "language_info": {
   "codemirror_mode": {
    "name": "ipython",
    "version": 3
   },
   "file_extension": ".py",
   "mimetype": "text/x-python",
   "name": "python",
   "nbconvert_exporter": "python",
   "pygments_lexer": "ipython3",
   "version": "3.9.12"
  },
  "orig_nbformat": 4
 },
 "nbformat": 4,
 "nbformat_minor": 2
}
