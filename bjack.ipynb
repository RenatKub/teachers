{
 "cells": [
  {
   "cell_type": "code",
   "execution_count": 8,
   "metadata": {},
   "outputs": [],
   "source": [
    "import random\n",
    "suits=('Черва','Буба','Пика','')\n",
    "ranks=('двойка','тройка','четверка','пятерка','шесть','семь','восемь','девять','десять',\n",
    "'Валет','Королева','Король','Туз')\n",
    "values={'двойка':2, 'тройка':3, 'четверка':4, 'пятерка':5, 'шесть':6, 'семь':7, 'восемь':8,\n",
    "'девять':9, 'десять':10, 'Валет':10, 'Королева':10, 'Король':10, 'Туз':11,}\n",
    "playing=True"
   ]
  },
  {
   "cell_type": "code",
   "execution_count": 9,
   "metadata": {},
   "outputs": [],
   "source": [
    "class card():\n",
    "  def __init__(self,suit,rank):\n",
    "    self.suit=suit\n",
    "    self.rank=rank\n",
    "  def __str__(self):\n",
    "    return self.rank+\" из \"+self.suit\n",
    "\n"
   ]
  },
  {
   "cell_type": "code",
   "execution_count": 10,
   "metadata": {},
   "outputs": [],
   "source": [
    "class deck():\n",
    "  def __init__(self):\n",
    "    self.deck=[]\n",
    "    for suit in suits:\n",
    "      for rank in ranks:\n",
    "        self.deck.append(card(suit, rank))\n",
    "  def __str__(self):\n",
    "    deck_comp=''\n",
    "    for card in self.deck:\n",
    "      deck_comp+='\\n'+card.__str__()\n",
    "    return(\"В колоде находятся: \"+deck_comp)\n",
    "  def shuffle(self):\n",
    "    random.shuffle(self.deck)\n",
    "  def deal(self):\n",
    "    single_card=self.deck.pop()\n",
    "    return single_card"
   ]
  },
  {
   "cell_type": "code",
   "execution_count": 11,
   "metadata": {},
   "outputs": [
    {
     "name": "stdout",
     "output_type": "stream",
     "text": [
      "В колоде находятся: \n",
      "две из Черва\n",
      "три из Черва\n",
      "четыре из Черва\n",
      "пять из Черва\n",
      "шесть из Черва\n",
      "семь из Черва\n",
      "восемь из Черва\n",
      "девять из Черва\n",
      "десять из Черва\n",
      "Валет из Черва\n",
      "Королева из Черва\n",
      "Король из Черва\n",
      "Туз из Черва\n",
      "две из Буба\n",
      "три из Буба\n",
      "четыре из Буба\n",
      "пять из Буба\n",
      "шесть из Буба\n",
      "семь из Буба\n",
      "восемь из Буба\n",
      "девять из Буба\n",
      "десять из Буба\n",
      "Валет из Буба\n",
      "Королева из Буба\n",
      "Король из Буба\n",
      "Туз из Буба\n",
      "две из Пика\n",
      "три из Пика\n",
      "четыре из Пика\n",
      "пять из Пика\n",
      "шесть из Пика\n",
      "семь из Пика\n",
      "восемь из Пика\n",
      "девять из Пика\n",
      "десять из Пика\n",
      "Валет из Пика\n",
      "Королева из Пика\n",
      "Король из Пика\n",
      "Туз из Пика\n",
      "две из \n",
      "три из \n",
      "четыре из \n",
      "пять из \n",
      "шесть из \n",
      "семь из \n",
      "восемь из \n",
      "девять из \n",
      "десять из \n",
      "Валет из \n",
      "Королева из \n",
      "Король из \n",
      "Туз из \n"
     ]
    }
   ],
   "source": [
    "tect_deck=deck()\n",
    "print(tect_deck)"
   ]
  }
 ],
 "metadata": {
  "kernelspec": {
   "display_name": "base",
   "language": "python",
   "name": "python3"
  },
  "language_info": {
   "codemirror_mode": {
    "name": "ipython",
    "version": 3
   },
   "file_extension": ".py",
   "mimetype": "text/x-python",
   "name": "python",
   "nbconvert_exporter": "python",
   "pygments_lexer": "ipython3",
   "version": "3.9.12"
  },
  "orig_nbformat": 4
 },
 "nbformat": 4,
 "nbformat_minor": 2
}
