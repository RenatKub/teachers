{
 "cells": [
  {
   "cell_type": "code",
   "execution_count": 20,
   "metadata": {},
   "outputs": [],
   "source": [
    "import random\n",
    "suits=('Черва','Буба','Пика','')\n",
    "ranks=('двойка','тройка','четверка','пятерка','шестерка','семерка','восьмерка','девятка','десятка',\n",
    "'Валет','Дама','Король','Туз')\n",
    "values={'двойка':2, 'тройка':3, 'четверка':4, 'пятерка':5, 'шестерка':6, 'семерка':7, 'восьмерка':8,\n",
    "'девятка':9, 'десятка':10, 'Валет':10, 'Дама':10, 'Король':10, 'Туз':11,}\n",
    "playing=True"
   ]
  },
  {
   "cell_type": "code",
   "execution_count": 21,
   "metadata": {},
   "outputs": [],
   "source": [
    "class card():\n",
    "  def __init__(self,suit,rank):\n",
    "    self.suit=suit\n",
    "    self.rank=rank\n",
    "  def __str__(self):\n",
    "    return self.rank+\" \"+self.suit\n",
    "\n"
   ]
  },
  {
   "cell_type": "code",
   "execution_count": 22,
   "metadata": {},
   "outputs": [],
   "source": [
    "class deck():\n",
    "  def __init__(self):\n",
    "    self.deck=[]\n",
    "    for suit in suits:\n",
    "      for rank in ranks:\n",
    "        self.deck.append(card(suit, rank))\n",
    "  def __str__(self):\n",
    "    deck_comp=''\n",
    "    for card in self.deck:\n",
    "      deck_comp+='\\n'+card.__str__()\n",
    "    return(\"В колоде находятся: \"+deck_comp)\n",
    "  def shuffle(self):\n",
    "    random.shuffle(self.deck)\n",
    "  def deal(self):\n",
    "    single_card=self.deck.pop()\n",
    "    return single_card"
   ]
  },
  {
   "cell_type": "code",
   "execution_count": 23,
   "metadata": {},
   "outputs": [
    {
     "name": "stdout",
     "output_type": "stream",
     "text": [
      "В колоде находятся: \n",
      "двойка Черва\n",
      "тройка Черва\n",
      "четверка Черва\n",
      "пятерка Черва\n",
      "шестерка Черва\n",
      "семерка Черва\n",
      "восьмерка Черва\n",
      "девятка Черва\n",
      "десятка Черва\n",
      "Валет Черва\n",
      "Дама Черва\n",
      "Король Черва\n",
      "Туз Черва\n",
      "двойка Буба\n",
      "тройка Буба\n",
      "четверка Буба\n",
      "пятерка Буба\n",
      "шестерка Буба\n",
      "семерка Буба\n",
      "восьмерка Буба\n",
      "девятка Буба\n",
      "десятка Буба\n",
      "Валет Буба\n",
      "Дама Буба\n",
      "Король Буба\n",
      "Туз Буба\n",
      "двойка Пика\n",
      "тройка Пика\n",
      "четверка Пика\n",
      "пятерка Пика\n",
      "шестерка Пика\n",
      "семерка Пика\n",
      "восьмерка Пика\n",
      "девятка Пика\n",
      "десятка Пика\n",
      "Валет Пика\n",
      "Дама Пика\n",
      "Король Пика\n",
      "Туз Пика\n",
      "двойка \n",
      "тройка \n",
      "четверка \n",
      "пятерка \n",
      "шестерка \n",
      "семерка \n",
      "восьмерка \n",
      "девятка \n",
      "десятка \n",
      "Валет \n",
      "Дама \n",
      "Король \n",
      "Туз \n"
     ]
    }
   ],
   "source": [
    "tect_deck=deck()\n",
    "print(tect_deck)"
   ]
  }
 ],
 "metadata": {
  "kernelspec": {
   "display_name": "base",
   "language": "python",
   "name": "python3"
  },
  "language_info": {
   "codemirror_mode": {
    "name": "ipython",
    "version": 3
   },
   "file_extension": ".py",
   "mimetype": "text/x-python",
   "name": "python",
   "nbconvert_exporter": "python",
   "pygments_lexer": "ipython3",
   "version": "3.9.12"
  },
  "orig_nbformat": 4
 },
 "nbformat": 4,
 "nbformat_minor": 2
}
