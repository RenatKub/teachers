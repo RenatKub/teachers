{
 "cells": [
  {
   "cell_type": "code",
   "execution_count": 1,
   "metadata": {},
   "outputs": [],
   "source": [
    "def hello(name=\"Хосе\"):\n",
    "  print(\"функция хэлло запущена!!!\")\n",
    "  def greet():\n",
    "    return \"\\t это функция грит внутри хэло\"\n",
    "  def welcome():\n",
    "    return \"\\t это функция вэлком внутри хэло\"\n",
    "  print(\"я собираюсь вернуть функцию\")\n",
    "  if name==\"Хосе\":\n",
    "    return greet\n",
    "  else:\n",
    "    return welcome\n",
    "  "
   ]
  },
  {
   "cell_type": "code",
   "execution_count": 2,
   "metadata": {},
   "outputs": [
    {
     "name": "stdout",
     "output_type": "stream",
     "text": [
      "функция хэлло запущена!!!\n",
      "я собираюсь вернуть функцию\n"
     ]
    }
   ],
   "source": [
    "my_new_func=hello(\"Хосе\")"
   ]
  },
  {
   "cell_type": "code",
   "execution_count": 3,
   "metadata": {},
   "outputs": [],
   "source": [
    "def new_decorator(original_func):\n",
    "    def wrap_func():\n",
    "        print(\"этот код перед оригинал функ\")\n",
    "        original_func()\n",
    "        print(\"этот код после оригинал функ\")\n",
    "    return wrap_func\n"
   ]
  },
  {
   "cell_type": "code",
   "execution_count": 4,
   "metadata": {},
   "outputs": [],
   "source": [
    "def func_needs_decorator():\n",
    "  print(\"Я хочу быть декоратором\")"
   ]
  },
  {
   "cell_type": "code",
   "execution_count": 5,
   "metadata": {},
   "outputs": [],
   "source": [
    "decorated_func=new_decorator(func_needs_decorator)"
   ]
  },
  {
   "cell_type": "code",
   "execution_count": 6,
   "metadata": {},
   "outputs": [
    {
     "name": "stdout",
     "output_type": "stream",
     "text": [
      "этот код перед оригинал функ\n",
      "Я хочу быть декоратором\n",
      "этот код после оригинал функ\n"
     ]
    }
   ],
   "source": [
    "decorated_func()"
   ]
  },
  {
   "cell_type": "code",
   "execution_count": 7,
   "metadata": {},
   "outputs": [],
   "source": [
    "@new_decorator\n",
    "def func_needs_decorator():\n",
    "    print(\"Хочу быть декоратором\")"
   ]
  },
  {
   "cell_type": "code",
   "execution_count": 8,
   "metadata": {},
   "outputs": [
    {
     "name": "stdout",
     "output_type": "stream",
     "text": [
      "этот код перед оригинал функ\n",
      "Хочу быть декоратором\n",
      "этот код после оригинал функ\n"
     ]
    }
   ],
   "source": [
    "func_needs_decorator()"
   ]
  }
 ],
 "metadata": {
  "kernelspec": {
   "display_name": "base",
   "language": "python",
   "name": "python3"
  },
  "language_info": {
   "codemirror_mode": {
    "name": "ipython",
    "version": 3
   },
   "file_extension": ".py",
   "mimetype": "text/x-python",
   "name": "python",
   "nbconvert_exporter": "python",
   "pygments_lexer": "ipython3",
   "version": "3.9.12"
  },
  "orig_nbformat": 4
 },
 "nbformat": 4,
 "nbformat_minor": 2
}
