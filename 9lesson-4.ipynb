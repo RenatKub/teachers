{
 "cells": [
  {
   "cell_type": "markdown",
   "metadata": {},
   "source": []
  },
  {
   "cell_type": "code",
   "execution_count": 21,
   "metadata": {},
   "outputs": [],
   "source": [
    "import re"
   ]
  },
  {
   "cell_type": "code",
   "execution_count": 22,
   "metadata": {},
   "outputs": [],
   "source": [
    "patterns=['одын','дыва']"
   ]
  },
  {
   "cell_type": "code",
   "execution_count": 23,
   "metadata": {},
   "outputs": [],
   "source": [
    "text='Эта строка содержит дыва и больше ничего'"
   ]
  },
  {
   "cell_type": "code",
   "execution_count": 24,
   "metadata": {},
   "outputs": [
    {
     "name": "stdout",
     "output_type": "stream",
     "text": [
      "Поиск \"одын\" в: \n",
      "\"Эта строка содержит дыва и больше ничего\"\n",
      "Не найдено совпадение \n",
      "\n",
      "Поиск \"дыва\" в: \n",
      "\"Эта строка содержит дыва и больше ничего\"\n",
      "Совпадение найдено \n",
      "\n"
     ]
    }
   ],
   "source": [
    "for patern in patterns:\n",
    "    print('Поиск \"%s\" в: \\n\"%s\"' %(patern,text)),\n",
    "    if re.search(patern,text):\n",
    "        #print ('\\n')\n",
    "        print('Совпадение найдено \\n')\n",
    "    else:\n",
    "        #print ('\\n')\n",
    "        print('Не найдено совпадение \\n')"
   ]
  }
 ],
 "metadata": {
  "kernelspec": {
   "display_name": "base",
   "language": "python",
   "name": "python3"
  },
  "language_info": {
   "codemirror_mode": {
    "name": "ipython",
    "version": 3
   },
   "file_extension": ".py",
   "mimetype": "text/x-python",
   "name": "python",
   "nbconvert_exporter": "python",
   "pygments_lexer": "ipython3",
   "version": "3.9.12"
  },
  "orig_nbformat": 4
 },
 "nbformat": 4,
 "nbformat_minor": 2
}
